{
 "cells": [
  {
   "cell_type": "markdown",
   "id": "7290f85a",
   "metadata": {},
   "source": [
    "### Implement Binary tree"
   ]
  },
  {
   "cell_type": "code",
   "execution_count": 1,
   "id": "50692a69",
   "metadata": {},
   "outputs": [
    {
     "data": {
      "text/plain": [
       "'4 becomes left child of 2\\n           1\\n       /             2          3\\n    /   \\\\       /     4    None  None  None\\n  /  None None'"
      ]
     },
     "execution_count": 1,
     "metadata": {},
     "output_type": "execute_result"
    }
   ],
   "source": [
    "class Node:\n",
    "    def __init__(self, key):\n",
    "        self.left = None\n",
    "        self.right = None\n",
    "        self.val = key\n",
    " \n",
    " \n",
    "root = Node(1)\n",
    "''' following is the tree after above statement\n",
    "        1\n",
    "      /   \\\n",
    "     None  None'''\n",
    " \n",
    "root.left = Node(2)\n",
    "root.right = Node(3)\n",
    " \n",
    "''' 2 and 3 become left and right children of 1\n",
    "           1\n",
    "         /   \\\n",
    "        2      3\n",
    "     /    \\    /  \\\n",
    "   None None None None'''\n",
    " \n",
    " \n",
    "root.left.left = Node(4)\n",
    "'''4 becomes left child of 2\n",
    "           1\n",
    "       /       \\\n",
    "      2          3\n",
    "    /   \\       /  \\\n",
    "   4    None  None  None\n",
    "  /  \\\n",
    "None None'''"
   ]
  },
  {
   "cell_type": "markdown",
   "id": "02fbc00b",
   "metadata": {},
   "source": [
    "### Find height of a given tree"
   ]
  },
  {
   "cell_type": "code",
   "execution_count": 2,
   "id": "0ec98921",
   "metadata": {},
   "outputs": [
    {
     "name": "stdout",
     "output_type": "stream",
     "text": [
      "Height of tree is 3\n"
     ]
    }
   ],
   "source": [
    " class Node:\n",
    "     \n",
    "    \n",
    "    def __init__(self, data):\n",
    "        self.data = data\n",
    "        self.left = None\n",
    "        self.right = None\n",
    " \n",
    "\n",
    "def treeHeight(root):\n",
    "     \n",
    "    \n",
    "    if root is None:\n",
    "        return 0\n",
    "     \n",
    "    \n",
    "    q = []\n",
    "     \n",
    "    \n",
    "    q.append(root)\n",
    "    height = 0\n",
    " \n",
    "    while(True):\n",
    "         \n",
    "        \n",
    "        \n",
    "        nodeCount = len(q)\n",
    "        if nodeCount == 0 :\n",
    "            return height\n",
    "     \n",
    "        height += 1\n",
    " \n",
    "        \n",
    "        while(nodeCount > 0):\n",
    "            node = q[0]\n",
    "            q.pop(0)\n",
    "            if node.left is not None:\n",
    "                q.append(node.left)\n",
    "            if node.right is not None:\n",
    "                q.append(node.right)\n",
    " \n",
    "            nodeCount -= 1\n",
    " \n",
    "  \n",
    "root = Node(1)\n",
    "root.left = Node(2)\n",
    "root.right = Node(3)\n",
    "root.left.left = Node(4)\n",
    "root.left.right = Node(5)\n",
    " \n",
    "print (\"Height of tree is\", treeHeight(root))\n",
    " "
   ]
  },
  {
   "cell_type": "markdown",
   "id": "0d1d529b",
   "metadata": {},
   "source": [
    "###  Pre-order, Post-order, In-order traversal"
   ]
  },
  {
   "cell_type": "code",
   "execution_count": 5,
   "id": "0f1ab765",
   "metadata": {},
   "outputs": [
    {
     "name": "stdout",
     "output_type": "stream",
     "text": [
      "Preorder traversal of binary tree is\n",
      "1\n",
      "2\n",
      "4\n",
      "5\n",
      "3\n",
      "\n",
      "Inorder traversal of binary tree is\n",
      "4\n",
      "2\n",
      "5\n",
      "1\n",
      "3\n",
      "\n",
      "Postorder traversal of binary tree is\n",
      "4\n",
      "5\n",
      "2\n",
      "3\n",
      "1\n"
     ]
    }
   ],
   "source": [
    "class Node:\n",
    "    def __init__(self, key):\n",
    "        self.left = None\n",
    "        self.right = None\n",
    "        self.val = key\n",
    " \n",
    " \n",
    "def printInorder(root):\n",
    " \n",
    "    if root:\n",
    "  \n",
    "        printInorder(root.left)\n",
    " \n",
    "    \n",
    "        print(root.val),\n",
    " \n",
    "        \n",
    "        printInorder(root.right)\n",
    " \n",
    " \n",
    "def printPostorder(root):\n",
    " \n",
    "    if root:\n",
    " \n",
    "        \n",
    "        printPostorder(root.left)\n",
    " \n",
    "        \n",
    "        printPostorder(root.right)\n",
    " \n",
    "        \n",
    "        print(root.val),\n",
    " \n",
    " \n",
    "def printPreorder(root):\n",
    " \n",
    "    if root:\n",
    " \n",
    "         \n",
    "        print(root.val),\n",
    " \n",
    "        \n",
    "        printPreorder(root.left)\n",
    " \n",
    "        \n",
    "        printPreorder(root.right)\n",
    " \n",
    " \n",
    " \n",
    "root = Node(1)\n",
    "root.left = Node(2)\n",
    "root.right = Node(3)\n",
    "root.left.left = Node(4)\n",
    "root.left.right = Node(5)\n",
    "print (\"Preorder traversal of binary tree is\")\n",
    "printPreorder(root)\n",
    " \n",
    "print (\"\\nInorder traversal of binary tree is\") \n",
    "printInorder(root)\n",
    " \n",
    "print (\"\\nPostorder traversal of binary tree is\")\n",
    "printPostorder(root)"
   ]
  },
  {
   "cell_type": "markdown",
   "id": "fccd7f69",
   "metadata": {},
   "source": [
    "### Function to print all the leaves in a given binary tree\n"
   ]
  },
  {
   "cell_type": "code",
   "execution_count": 6,
   "id": "92b3031c",
   "metadata": {},
   "outputs": [
    {
     "name": "stdout",
     "output_type": "stream",
     "text": [
      "9 6 5 10 "
     ]
    }
   ],
   "source": [
    "class newNode:\n",
    "     \n",
    "    def __init__(self, data):\n",
    "        self.data = data\n",
    "        self.left = None\n",
    "        self.right = None\n",
    " \n",
    " \n",
    "def printLeafNodes(root):\n",
    "     \n",
    "    \n",
    "    if root == None:\n",
    "        return\n",
    "     \n",
    "    \n",
    "    if (root.left == None and\n",
    "        root.right == None):\n",
    "        print(root.data, end = \" \")\n",
    "        return\n",
    "     \n",
    "     \n",
    "    if root.right:\n",
    "        printLeafNodes(root.right)\n",
    "     \n",
    "    \n",
    "    if root.left:\n",
    "        printLeafNodes(root.left)\n",
    " \n",
    " \n",
    "root = newNode(1)\n",
    "root.left = newNode(2)\n",
    "root.right = newNode(3)\n",
    "root.left.left = newNode(4)\n",
    "root.left.right = newNode(5)\n",
    "root.right.left = newNode(6)\n",
    "root.right.right = newNode(7)\n",
    "root.left.left.left = newNode(8)\n",
    "root.right.right.left = newNode(9)\n",
    "root.left.left.left.right = newNode(10)\n",
    " \n",
    "printLeafNodes(root)\n",
    " "
   ]
  },
  {
   "cell_type": "markdown",
   "id": "3f2b09af",
   "metadata": {},
   "source": [
    "### Implement BFS (Breath First Search) and DFS (Depth First Search)"
   ]
  },
  {
   "cell_type": "markdown",
   "id": "91a09235",
   "metadata": {},
   "source": [
    "### Breath First Search"
   ]
  },
  {
   "cell_type": "code",
   "execution_count": 7,
   "id": "011ba191",
   "metadata": {},
   "outputs": [
    {
     "name": "stdout",
     "output_type": "stream",
     "text": [
      "Level order traversal of binary tree is -\n",
      "1 2 3 4 5 "
     ]
    }
   ],
   "source": [
    "class Node:\n",
    " \n",
    "    \n",
    "    def __init__(self, key):\n",
    "        self.data = key\n",
    "        self.left = None\n",
    "        self.right = None\n",
    " \n",
    " \n",
    " \n",
    "def printLevelOrder(root):\n",
    "    h = height(root)\n",
    "    for i in range(1, h+1):\n",
    "        printCurrentLevel(root, i)\n",
    " \n",
    " \n",
    " \n",
    "def printCurrentLevel(root, level):\n",
    "    if root is None:\n",
    "        return\n",
    "    if level == 1:\n",
    "        print(root.data, end=\" \")\n",
    "    elif level > 1:\n",
    "        printCurrentLevel(root.left, level-1)\n",
    "        printCurrentLevel(root.right, level-1)\n",
    " \n",
    " \n",
    "\"\"\" Compute the height of a tree--the number of nodes\n",
    "    along the longest path from the root node down to\n",
    "    the farthest leaf node\n",
    "\"\"\"\n",
    " \n",
    " \n",
    "def height(node):\n",
    "    if node is None:\n",
    "        return 0\n",
    "    else:\n",
    "        \n",
    "        lheight = height(node.left)\n",
    "        rheight = height(node.right)\n",
    "  \n",
    "        if lheight > rheight:\n",
    "            return lheight+1\n",
    "        else:\n",
    "            return rheight+1\n",
    " \n",
    " \n",
    " \n",
    "root = Node(1)\n",
    "root.left = Node(2)\n",
    "root.right = Node(3)\n",
    "root.left.left = Node(4)\n",
    "root.left.right = Node(5)\n",
    " \n",
    "print(\"Level order traversal of binary tree is -\")\n",
    "printLevelOrder(root)"
   ]
  },
  {
   "cell_type": "markdown",
   "id": "722d3ed8",
   "metadata": {},
   "source": [
    "### Depth First Search"
   ]
  },
  {
   "cell_type": "code",
   "execution_count": 9,
   "id": "e4b2974f",
   "metadata": {
    "scrolled": true
   },
   "outputs": [
    {
     "name": "stdout",
     "output_type": "stream",
     "text": [
      "\n",
      "Inorder traversal of binary tree is\n"
     ]
    }
   ],
   "source": [
    "class Node:\n",
    "    def __init__(self, key):\n",
    "        self.left = None\n",
    "        self.right = None\n",
    "        self.val = key\n",
    " \n",
    " \n",
    "def printInorder(root):\n",
    " \n",
    "    if root:\n",
    " \n",
    "  \n",
    "        printInorder(root.left)\n",
    " \n",
    "        \n",
    " \n",
    "         \n",
    "        printInorder(root.right)\n",
    "         \n",
    " \n",
    " \n",
    "root = Node(1)\n",
    "root.left = Node(2)\n",
    "root.right = Node(3)\n",
    "root.left.left = Node(4)\n",
    "root.left.right = Node(5)\n",
    " \n",
    "print ( \"\\nInorder traversal of binary tree is\")\n",
    "printInorder(root)"
   ]
  },
  {
   "cell_type": "markdown",
   "id": "48f91947",
   "metadata": {},
   "source": [
    "### Find sum of all left leaves in a given Binary Tree\n"
   ]
  },
  {
   "cell_type": "code",
   "execution_count": 10,
   "id": "fbe22fd3",
   "metadata": {},
   "outputs": [
    {
     "name": "stdout",
     "output_type": "stream",
     "text": [
      "Sum of left leaves is 78\n"
     ]
    }
   ],
   "source": [
    "class Node:\n",
    "    \n",
    "    def __init__(self, key):\n",
    "        self.key = key\n",
    "        self.left = None\n",
    "        self.right = None\n",
    " \n",
    "def isLeaf(node):\n",
    "    if node is None:\n",
    "        return False\n",
    "    if node.left is None and node.right is None:\n",
    "        return True\n",
    "    return False\n",
    " \n",
    " \n",
    "def leftLeavesSum(root):\n",
    "  \n",
    "    res = 0\n",
    "     \n",
    "    \n",
    "    if root is not None:\n",
    "  \n",
    "        if isLeaf(root.left):\n",
    "            res += root.left.key\n",
    "        else:\n",
    "       \n",
    "            res += leftLeavesSum(root.left)\n",
    " \n",
    "        \n",
    "        res += leftLeavesSum(root.right)\n",
    "    return res\n",
    " \n",
    " \n",
    "  \n",
    "root = Node(20)\n",
    "root.left = Node(9)\n",
    "root.right = Node(49)\n",
    "root.right.left = Node(23)       \n",
    "root.right.right = Node(52)\n",
    "root.right.right.left = Node(50)\n",
    "root.left.left = Node(5)\n",
    "root.left.right = Node(12)\n",
    "root.left.right.right = Node(12)\n",
    "print (\"Sum of left leaves is\", leftLeavesSum(root))\n",
    " "
   ]
  },
  {
   "cell_type": "markdown",
   "id": "41f8349c",
   "metadata": {},
   "source": [
    "### Find sum of all nodes of the given perfect binary tree\n"
   ]
  },
  {
   "cell_type": "code",
   "execution_count": 11,
   "id": "9b2082aa",
   "metadata": {},
   "outputs": [
    {
     "name": "stdout",
     "output_type": "stream",
     "text": [
      "30\n"
     ]
    }
   ],
   "source": [
    "import math\n",
    " \n",
    "def sumNodes(l):\n",
    "  \n",
    "    leafNodeCount = math.pow(2, l - 1);\n",
    " \n",
    "    sumLastLevel = 0;\n",
    "     \n",
    "    sumLastLevel = ((leafNodeCount *\n",
    "                  (leafNodeCount + 1)) / 2);\n",
    "  \n",
    "    sum = sumLastLevel * l;\n",
    " \n",
    "    return int(sum);\n",
    " \n",
    " \n",
    "l = 3;\n",
    "print (sumNodes(l));"
   ]
  },
  {
   "cell_type": "markdown",
   "id": "aa8200b6",
   "metadata": {},
   "source": [
    "### Count subtress that sum up to a given value x in a binary tree"
   ]
  },
  {
   "cell_type": "code",
   "execution_count": 13,
   "id": "fa2b8723",
   "metadata": {},
   "outputs": [
    {
     "name": "stdout",
     "output_type": "stream",
     "text": [
      "Count = 2\n"
     ]
    }
   ],
   "source": [
    "class getNode:\n",
    "    def __init__(self, data):\n",
    "         \n",
    "        # put in the data\n",
    "        self.data = data\n",
    "        self.left = self.right = None\n",
    "         \n",
    " \n",
    "def countSubtreesWithSumX(root, count, x):\n",
    "     \n",
    "    \n",
    "    if (not root):\n",
    "        return 0\n",
    " \n",
    "    \n",
    "    ls = countSubtreesWithSumX(root.left,\n",
    "                               count, x)\n",
    " \n",
    "     \n",
    "    rs = countSubtreesWithSumX(root.right,\n",
    "                               count, x)\n",
    " \n",
    "     \n",
    "    Sum = ls + rs + root.data\n",
    " \n",
    "    \n",
    "    if (Sum == x):\n",
    "        count[0] += 1\n",
    " \n",
    "     \n",
    "    return Sum\n",
    " \n",
    " \n",
    "def countSubtreesWithSumXUtil(root, x):\n",
    "     \n",
    "    \n",
    "    if (not root):\n",
    "        return 0\n",
    " \n",
    "    count = [0]\n",
    " \n",
    "     \n",
    "    ls = countSubtreesWithSumX(root.left,\n",
    "                               count, x)\n",
    "  \n",
    "    rs = countSubtreesWithSumX(root.right,\n",
    "                               count, x)\n",
    " \n",
    "     \n",
    "    if ((ls + rs + root.data) == x):\n",
    "        count[0] += 1\n",
    " \n",
    "     \n",
    "    return count[0]\n",
    " \n",
    " \n",
    "if __name__ == '__main__':\n",
    "     \n",
    "     \n",
    "    root = getNode(5)\n",
    "    root.left = getNode(-10)\n",
    "    root.right = getNode(3)\n",
    "    root.left.left = getNode(9)\n",
    "    root.left.right = getNode(8)\n",
    "    root.right.left = getNode(-4)\n",
    "    root.right.right = getNode(7)\n",
    " \n",
    "    x = 7\n",
    " \n",
    "    print(\"Count =\",\n",
    "           countSubtreesWithSumXUtil(root, x))\n",
    " "
   ]
  },
  {
   "cell_type": "markdown",
   "id": "12dc82c5",
   "metadata": {},
   "source": [
    "### Find maximum level sum in Binary Tree\n"
   ]
  },
  {
   "cell_type": "code",
   "execution_count": 1,
   "id": "bbf3c562",
   "metadata": {},
   "outputs": [
    {
     "name": "stdout",
     "output_type": "stream",
     "text": [
      "Maximum level sum is 17\n"
     ]
    }
   ],
   "source": [
    "from collections import deque\n",
    " \n",
    "class Node:\n",
    "     \n",
    "    def __init__(self, key):\n",
    "         \n",
    "        self.data = key\n",
    "        self.left = None\n",
    "        self.right = None\n",
    " \n",
    " \n",
    "def maxLevelSum(root):\n",
    "     \n",
    "    \n",
    "    if (root == None):\n",
    "        return 0\n",
    " \n",
    "     \n",
    "    result = root.data\n",
    "     \n",
    "    q = deque()\n",
    "    q.append(root)\n",
    "     \n",
    "    while (len(q) > 0):\n",
    "         \n",
    "        \n",
    "        count = len(q)\n",
    " \n",
    "        \n",
    "        sum = 0\n",
    "        while (count > 0):\n",
    "             \n",
    "            \n",
    "            temp = q.popleft()\n",
    " \n",
    "             \n",
    "            sum = sum + temp.data\n",
    " \n",
    "             \n",
    "            if (temp.left != None):\n",
    "                q.append(temp.left)\n",
    "            if (temp.right != None):\n",
    "                q.append(temp.right)\n",
    "                 \n",
    "            count -= 1   \n",
    " \n",
    "         \n",
    "        result = max(sum, result)\n",
    " \n",
    "    return result\n",
    "     \n",
    " \n",
    "if __name__ == '__main__':\n",
    "     \n",
    "    root = Node(1)\n",
    "    root.left = Node(2)\n",
    "    root.right = Node(3)\n",
    "    root.left.left = Node(4)\n",
    "    root.left.right = Node(5)\n",
    "    root.right.right = Node(8)\n",
    "    root.right.right.left = Node(6)\n",
    "    root.right.right.right = Node(7)\n",
    " \n",
    "    \n",
    "    print(\"Maximum level sum is\", maxLevelSum(root))\n",
    " \n",
    " "
   ]
  },
  {
   "cell_type": "markdown",
   "id": "dbe1e30e",
   "metadata": {},
   "source": [
    "### Print the nodes at odd levels of a tree"
   ]
  },
  {
   "cell_type": "code",
   "execution_count": 2,
   "id": "62661e00",
   "metadata": {},
   "outputs": [
    {
     "name": "stdout",
     "output_type": "stream",
     "text": [
      "1 4 5 "
     ]
    }
   ],
   "source": [
    "class newNode:\n",
    "    def __init__(self, data):\n",
    "        self.data = data\n",
    "        self.left = self.right = None\n",
    "         \n",
    " \n",
    "def printOddNodes(root) :\n",
    " \n",
    "    # Base Case\n",
    "    if (root == None):\n",
    "        return\n",
    " \n",
    "     \n",
    "    q = []\n",
    " \n",
    "    \n",
    "    q.append(root)\n",
    "    isOdd = True\n",
    " \n",
    "    while (1) :\n",
    "     \n",
    "         \n",
    "        nodeCount = len(q)\n",
    "        if (nodeCount == 0) :\n",
    "            break\n",
    " \n",
    "       \n",
    "        while (nodeCount > 0):\n",
    "         \n",
    "            node = q[0]\n",
    "            if (isOdd):\n",
    "                print(node.data, end = \" \")\n",
    "            q.pop(0)\n",
    "            if (node.left != None) :\n",
    "                q.append(node.left)\n",
    "            if (node.right != None) :\n",
    "                q.append(node.right)\n",
    "            nodeCount -= 1\n",
    "             \n",
    "        isOdd = not isOdd\n",
    " \n",
    " \n",
    "if __name__ == '__main__':\n",
    "    root = newNode(1)\n",
    "    root.left = newNode(2)\n",
    "    root.right = newNode(3)\n",
    "    root.left.left = newNode(4)\n",
    "    root.left.right = newNode(5)\n",
    "    printOddNodes(root)"
   ]
  },
  {
   "cell_type": "code",
   "execution_count": null,
   "id": "7a674ab2",
   "metadata": {},
   "outputs": [],
   "source": []
  }
 ],
 "metadata": {
  "kernelspec": {
   "display_name": "Python 3 (ipykernel)",
   "language": "python",
   "name": "python3"
  },
  "language_info": {
   "codemirror_mode": {
    "name": "ipython",
    "version": 3
   },
   "file_extension": ".py",
   "mimetype": "text/x-python",
   "name": "python",
   "nbconvert_exporter": "python",
   "pygments_lexer": "ipython3",
   "version": "3.9.7"
  }
 },
 "nbformat": 4,
 "nbformat_minor": 5
}
